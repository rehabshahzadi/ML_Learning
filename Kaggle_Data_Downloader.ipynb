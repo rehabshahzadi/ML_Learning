{
 "cells": [
  {
   "cell_type": "markdown",
   "id": "45605846",
   "metadata": {},
   "source": [
    "# 📊 Kaggle Dataset Downloader\n",
    "Download datasets from Kaggle easily with this notebook.\n",
    "Make sure you have a Kaggle account and created an API token from [Kaggle Settings](https://www.kaggle.com/settings).\n",
    "![title](img/picture.png)"
   ]
  },
  {
   "cell_type": "markdown",
   "id": "ac22dd18",
   "metadata": {},
   "source": [
    "## 🔧 Step 1: Setup Environment\n",
    "We will install the `kaggle` library (if not already installed) and import required libraries."
   ]
  },
  {
   "cell_type": "code",
   "execution_count": 20,
   "id": "feae876d",
   "metadata": {},
   "outputs": [],
   "source": [
    "try:\n",
    "    import kaggle\n",
    "except ImportError:\n",
    "    !pip install kaggle\n",
    "    import kaggle\n",
    "\n",
    "import os, zipfile"
   ]
  },
  {
   "cell_type": "markdown",
   "id": "c6ab226f",
   "metadata": {},
   "source": [
    "## 🔑 Step 2: Authentication\n",
    "Place your `kaggle.json` file inside a folder named `API-tokens/`.\n",
    "This cell will automatically copy it to the correct location."
   ]
  },
  {
   "cell_type": "code",
   "execution_count": 21,
   "id": "31bf0170",
   "metadata": {},
   "outputs": [
    {
     "name": "stdout",
     "output_type": "stream",
     "text": [
      "✅ Kaggle API token installed successfully.\n"
     ]
    }
   ],
   "source": [
    "kaggle_dir = os.path.expanduser('~/.kaggle')\n",
    "os.makedirs(kaggle_dir, exist_ok=True)\n",
    "\n",
    "token_path = 'API-tokens/kaggle.json'\n",
    "if os.path.exists(token_path):\n",
    "    os.system(f'cp {token_path} {kaggle_dir}/')\n",
    "    os.chmod(f'{kaggle_dir}/kaggle.json', 0o600)\n",
    "    print('✅ Kaggle API token installed successfully.')\n",
    "else:\n",
    "    raise FileNotFoundError('❌ kaggle.json not found in API-tokens/. Please upload it.')"
   ]
  },
  {
   "cell_type": "markdown",
   "id": "ee1753ea",
   "metadata": {},
   "source": [
    "## 📥 Step 3: Download a Dataset\n",
    "Use the function below to download any Kaggle dataset by providing its dataset path.\n",
    "![title](img/picture2.png)\n",
    "Example: `adityarajsrv/job-descriptions-2025-tech-and-non-tech-roles`"
   ]
  },
  {
   "cell_type": "code",
   "execution_count": 22,
   "id": "2bd9a62a",
   "metadata": {},
   "outputs": [
    {
     "name": "stdout",
     "output_type": "stream",
     "text": [
      "⬇️ Downloading dataset: adityarajsrv/job-descriptions-2025-tech-and-non-tech-roles ...\n",
      "Dataset URL: https://www.kaggle.com/datasets/adityarajsrv/job-descriptions-2025-tech-and-non-tech-roles\n",
      "License(s): Attribution 4.0 International (CC BY 4.0)\n",
      "job-descriptions-2025-tech-and-non-tech-roles.zip: Skipping, found more recently modified local copy (use --force to force download)\n",
      "✅ Download complete.\n"
     ]
    }
   ],
   "source": [
    "def download_kaggle_dataset(dataset: str, download_path: str):\n",
    "    os.makedirs(download_path, exist_ok=True)\n",
    "    print(f'⬇️ Downloading dataset: {dataset} ...')\n",
    "    !kaggle datasets download -d {dataset} -p {download_path}\n",
    "    print('✅ Download complete.')\n",
    "\n",
    "# Example usage\n",
    "\n",
    "dataset_path='./Dataset'\n",
    "download_kaggle_dataset('adityarajsrv/job-descriptions-2025-tech-and-non-tech-roles', dataset_path)"
   ]
  },
  {
   "cell_type": "markdown",
   "id": "c27f3574",
   "metadata": {},
   "source": [
    "## 📂 Step 4: Extract Dataset\n",
    "If the dataset is a zip file, this function will extract it automatically."
   ]
  },
  {
   "cell_type": "code",
   "execution_count": 24,
   "id": "4f82f5f7",
   "metadata": {},
   "outputs": [
    {
     "name": "stdout",
     "output_type": "stream",
     "text": [
      "📦 Extracting ./Dataset/job-descriptions-2025-tech-and-non-tech-roles.zip ...\n",
      "✅ Extraction complete.\n"
     ]
    }
   ],
   "source": [
    "def extract_zip_files(path: str):\n",
    "    for file in os.listdir(path):\n",
    "        if file.endswith('.zip'):\n",
    "            file_path = os.path.join(path, file)\n",
    "            print(f'📦 Extracting {file_path} ...')\n",
    "            with zipfile.ZipFile(file_path, 'r') as zip_ref:\n",
    "                zip_ref.extractall(path)\n",
    "            print('✅ Extraction complete.')\n",
    "\n",
    "# Example usage\n",
    "extract_zip_files(dataset_path)"
   ]
  },
  {
   "cell_type": "markdown",
   "id": "d11b3bd5",
   "metadata": {},
   "source": [
    "## 🎉 Done!\n",
    "Your dataset is now downloaded and extracted. You can start analyzing it! 🚀"
   ]
  }
 ],
 "metadata": {
  "kernelspec": {
   "display_name": "Python 3 (ipykernel)",
   "language": "python",
   "name": "python3"
  },
  "language_info": {
   "codemirror_mode": {
    "name": "ipython",
    "version": 3
   },
   "file_extension": ".py",
   "mimetype": "text/x-python",
   "name": "python",
   "nbconvert_exporter": "python",
   "pygments_lexer": "ipython3",
   "version": "3.13.7"
  }
 },
 "nbformat": 4,
 "nbformat_minor": 5
}
